{
 "cells": [
  {
   "cell_type": "markdown",
   "id": "d57cdc77",
   "metadata": {},
   "source": [
    "# 제목"
   ]
  },
  {
   "cell_type": "markdown",
   "id": "977c0f68",
   "metadata": {},
   "source": [
    "## 중제목"
   ]
  },
  {
   "cell_type": "markdown",
   "id": "d2d2f0c6",
   "metadata": {},
   "source": [
    "### 소제목"
   ]
  },
  {
   "cell_type": "code",
   "execution_count": null,
   "id": "1f2fe0f9",
   "metadata": {},
   "outputs": [],
   "source": [
    "print(\"world\")"
   ]
  },
  {
   "cell_type": "code",
   "execution_count": null,
   "id": "c1c3d281",
   "metadata": {},
   "outputs": [],
   "source": [
    "print(\"hello\")"
   ]
  },
  {
   "cell_type": "code",
   "execution_count": null,
   "id": "a6036059",
   "metadata": {
    "scrolled": true
   },
   "outputs": [],
   "source": [
    "print(\"world\")"
   ]
  }
 ],
 "metadata": {
  "kernelspec": {
   "display_name": "Python 3 (ipykernel)",
   "language": "python",
   "name": "python3"
  },
  "language_info": {
   "codemirror_mode": {
    "name": "ipython",
    "version": 3
   },
   "file_extension": ".py",
   "mimetype": "text/x-python",
   "name": "python",
   "nbconvert_exporter": "python",
   "pygments_lexer": "ipython3",
   "version": "3.11.4"
  }
 },
 "nbformat": 4,
 "nbformat_minor": 5
}

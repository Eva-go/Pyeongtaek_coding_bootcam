{
 "cells": [
  {
   "cell_type": "markdown",
   "id": "d0d48e24",
   "metadata": {},
   "source": [
    "# for 반복구조"
   ]
  },
  {
   "cell_type": "code",
   "execution_count": 1,
   "id": "e14700ee",
   "metadata": {
    "scrolled": false
   },
   "outputs": [
    {
     "name": "stdout",
     "output_type": "stream",
     "text": [
      "1\n",
      "2\n",
      "3\n",
      "4\n",
      "5\n"
     ]
    }
   ],
   "source": [
    "for i in [1,2,3,4,5]:\n",
    "    print(i)"
   ]
  },
  {
   "cell_type": "code",
   "execution_count": 2,
   "id": "4de43f9a",
   "metadata": {
    "scrolled": true
   },
   "outputs": [
    {
     "name": "stdout",
     "output_type": "stream",
     "text": [
      "p\n",
      "y\n",
      "t\n",
      "h\n",
      "o\n",
      "n\n"
     ]
    }
   ],
   "source": [
    "for i in 'python':\n",
    "    print(i)"
   ]
  },
  {
   "cell_type": "code",
   "execution_count": 3,
   "id": "14a3102a",
   "metadata": {
    "scrolled": true
   },
   "outputs": [
    {
     "name": "stdout",
     "output_type": "stream",
     "text": [
      "0\n",
      "1\n",
      "2\n",
      "3\n",
      "4\n"
     ]
    }
   ],
   "source": [
    "for i in range(5):\n",
    "    print(i)"
   ]
  },
  {
   "cell_type": "code",
   "execution_count": null,
   "id": "9652fdab",
   "metadata": {
    "scrolled": false
   },
   "outputs": [],
   "source": []
  },
  {
   "cell_type": "markdown",
   "id": "ddf42034",
   "metadata": {},
   "source": [
    "* 'Hello' 10번 출력하기     \n",
    "특정 횟수만큼 반복하려면 range(횟수)의 형태를 사용한다."
   ]
  },
  {
   "cell_type": "code",
   "execution_count": 4,
   "id": "258efa73",
   "metadata": {
    "scrolled": true
   },
   "outputs": [
    {
     "name": "stdout",
     "output_type": "stream",
     "text": [
      "hello\n",
      "hello\n",
      "hello\n",
      "hello\n",
      "hello\n",
      "hello\n",
      "hello\n",
      "hello\n",
      "hello\n",
      "hello\n"
     ]
    }
   ],
   "source": [
    "for i in range(10):\n",
    "    print(\"hello\")"
   ]
  },
  {
   "cell_type": "markdown",
   "id": "047c4d20",
   "metadata": {},
   "source": [
    "# 중첩반복구조\n",
    "* 내부 for문을 외부 for문의 시퀀스만큼 반복한다.\n",
    "* 내부루프와 외부루프는 동일한 제어변수를 사용해서는 안된다."
   ]
  },
  {
   "cell_type": "code",
   "execution_count": 6,
   "id": "62cce432",
   "metadata": {
    "scrolled": true
   },
   "outputs": [
    {
     "name": "stdout",
     "output_type": "stream",
     "text": [
      "0 0\n",
      "0 1\n",
      "0 2\n",
      "0 3\n",
      "1 0\n",
      "1 1\n",
      "1 2\n",
      "1 3\n",
      "2 0\n",
      "2 1\n",
      "2 2\n",
      "2 3\n"
     ]
    }
   ],
   "source": [
    "for i in range(3):\n",
    "    for j in range(4):\n",
    "        print(i,j)"
   ]
  },
  {
   "cell_type": "markdown",
   "id": "1e287e24",
   "metadata": {},
   "source": [
    "* 2단부터 9단까지 전체 구구단 출력하기"
   ]
  },
  {
   "cell_type": "code",
   "execution_count": 11,
   "id": "debeaa12",
   "metadata": {
    "scrolled": true
   },
   "outputs": [
    {
     "name": "stdout",
     "output_type": "stream",
     "text": [
      "2*1 = 2     2*2 = 4     2*3 = 6     2*4 = 8     2*5 = 10     2*6 = 12     2*7 = 14     2*8 = 16     2*9 = 18     \n",
      "3*1 = 3     3*2 = 6     3*3 = 9     3*4 = 12     3*5 = 15     3*6 = 18     3*7 = 21     3*8 = 24     3*9 = 27     \n",
      "4*1 = 4     4*2 = 8     4*3 = 12     4*4 = 16     4*5 = 20     4*6 = 24     4*7 = 28     4*8 = 32     4*9 = 36     \n",
      "5*1 = 5     5*2 = 10     5*3 = 15     5*4 = 20     5*5 = 25     5*6 = 30     5*7 = 35     5*8 = 40     5*9 = 45     \n",
      "6*1 = 6     6*2 = 12     6*3 = 18     6*4 = 24     6*5 = 30     6*6 = 36     6*7 = 42     6*8 = 48     6*9 = 54     \n",
      "7*1 = 7     7*2 = 14     7*3 = 21     7*4 = 28     7*5 = 35     7*6 = 42     7*7 = 49     7*8 = 56     7*9 = 63     \n",
      "8*1 = 8     8*2 = 16     8*3 = 24     8*4 = 32     8*5 = 40     8*6 = 48     8*7 = 56     8*8 = 64     8*9 = 72     \n",
      "9*1 = 9     9*2 = 18     9*3 = 27     9*4 = 36     9*5 = 45     9*6 = 54     9*7 = 63     9*8 = 72     9*9 = 81     \n"
     ]
    }
   ],
   "source": [
    "for i in range (2,10):\n",
    "    for j in range(1,10):\n",
    "        print(f'{i}*{j} = {i*j}',end = \"     \")\n",
    "    print()"
   ]
  },
  {
   "cell_type": "code",
   "execution_count": 13,
   "id": "bdfbd829",
   "metadata": {},
   "outputs": [
    {
     "name": "stdout",
     "output_type": "stream",
     "text": [
      "2*1 = 2    3*1 = 3    4*1 = 4    5*1 = 5    6*1 = 6    7*1 = 7    8*1 = 8    9*1 = 9    \n",
      "2*2 = 4    3*2 = 6    4*2 = 8    5*2 = 10    6*2 = 12    7*2 = 14    8*2 = 16    9*2 = 18    \n",
      "2*3 = 6    3*3 = 9    4*3 = 12    5*3 = 15    6*3 = 18    7*3 = 21    8*3 = 24    9*3 = 27    \n",
      "2*4 = 8    3*4 = 12    4*4 = 16    5*4 = 20    6*4 = 24    7*4 = 28    8*4 = 32    9*4 = 36    \n",
      "2*5 = 10    3*5 = 15    4*5 = 20    5*5 = 25    6*5 = 30    7*5 = 35    8*5 = 40    9*5 = 45    \n",
      "2*6 = 12    3*6 = 18    4*6 = 24    5*6 = 30    6*6 = 36    7*6 = 42    8*6 = 48    9*6 = 54    \n",
      "2*7 = 14    3*7 = 21    4*7 = 28    5*7 = 35    6*7 = 42    7*7 = 49    8*7 = 56    9*7 = 63    \n",
      "2*8 = 16    3*8 = 24    4*8 = 32    5*8 = 40    6*8 = 48    7*8 = 56    8*8 = 64    9*8 = 72    \n",
      "2*9 = 18    3*9 = 27    4*9 = 36    5*9 = 45    6*9 = 54    7*9 = 63    8*9 = 72    9*9 = 81    \n"
     ]
    }
   ],
   "source": [
    "for i in range (1,10):\n",
    "    for j in range(2,10):\n",
    "        print(f'{j}*{i} = {j*i}',end = \"    \")\n",
    "    print()"
   ]
  },
  {
   "cell_type": "markdown",
   "id": "75b378a5",
   "metadata": {},
   "source": [
    "# 연습문제"
   ]
  },
  {
   "cell_type": "markdown",
   "id": "391ecec7",
   "metadata": {},
   "source": [
    "* 1부터 10까지 정수의 합 구하여 출력하기"
   ]
  },
  {
   "cell_type": "code",
   "execution_count": 16,
   "id": "4662618f",
   "metadata": {},
   "outputs": [
    {
     "name": "stdout",
     "output_type": "stream",
     "text": [
      "20\n"
     ]
    }
   ],
   "source": [
    "total=0\n",
    "for i in range (1,11):\n",
    "    total+=i\n",
    "print(total)"
   ]
  },
  {
   "cell_type": "markdown",
   "id": "29667677",
   "metadata": {},
   "source": [
    "* 1부터 100까지 홀수의 합 구하여 출력하기"
   ]
  },
  {
   "cell_type": "code",
   "execution_count": 20,
   "id": "9b051a7d",
   "metadata": {
    "scrolled": true
   },
   "outputs": [
    {
     "name": "stdout",
     "output_type": "stream",
     "text": [
      "2500\n"
     ]
    }
   ],
   "source": [
    "total=0\n",
    "for i in range(1,101):\n",
    "    if(i%2==1):\n",
    "        total+=i\n",
    "print(total)"
   ]
  },
  {
   "cell_type": "code",
   "execution_count": null,
   "id": "7c21ed60",
   "metadata": {},
   "outputs": [],
   "source": []
  }
 ],
 "metadata": {
  "kernelspec": {
   "display_name": "Python 3 (ipykernel)",
   "language": "python",
   "name": "python3"
  },
  "language_info": {
   "codemirror_mode": {
    "name": "ipython",
    "version": 3
   },
   "file_extension": ".py",
   "mimetype": "text/x-python",
   "name": "python",
   "nbconvert_exporter": "python",
   "pygments_lexer": "ipython3",
   "version": "3.11.4"
  },
  "toc": {
   "base_numbering": 1,
   "nav_menu": {},
   "number_sections": true,
   "sideBar": true,
   "skip_h1_title": false,
   "title_cell": "Table of Contents",
   "title_sidebar": "Contents",
   "toc_cell": false,
   "toc_position": {},
   "toc_section_display": true,
   "toc_window_display": true
  }
 },
 "nbformat": 4,
 "nbformat_minor": 5
}

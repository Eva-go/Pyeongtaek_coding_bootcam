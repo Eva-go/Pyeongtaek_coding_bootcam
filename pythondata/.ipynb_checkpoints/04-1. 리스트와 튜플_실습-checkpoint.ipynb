{
 "cells": [
  {
   "cell_type": "markdown",
   "id": "0d932fe4",
   "metadata": {},
   "source": [
    "# 리스트, 튜플 만들기"
   ]
  },
  {
   "cell_type": "markdown",
   "id": "4a88a6b7",
   "metadata": {},
   "source": [
    "## 리스트 만들기"
   ]
  },
  {
   "cell_type": "code",
   "execution_count": 3,
   "id": "c78a8ea4",
   "metadata": {},
   "outputs": [
    {
     "data": {
      "text/plain": [
       "[]"
      ]
     },
     "execution_count": 3,
     "metadata": {},
     "output_type": "execute_result"
    }
   ],
   "source": [
    "# []를 사용하여 빈 리스트 만들기\n",
    "ls=[]\n",
    "ls"
   ]
  },
  {
   "cell_type": "code",
   "execution_count": 5,
   "id": "b3b88972",
   "metadata": {},
   "outputs": [
    {
     "data": {
      "text/plain": [
       "[]"
      ]
     },
     "execution_count": 5,
     "metadata": {},
     "output_type": "execute_result"
    }
   ],
   "source": [
    "# list() 함수를 사용하여 빈 리스트 만들기\n",
    "ls=list()\n",
    "ls"
   ]
  },
  {
   "cell_type": "code",
   "execution_count": 7,
   "id": "2867b9c7",
   "metadata": {},
   "outputs": [
    {
     "data": {
      "text/plain": [
       "[1, 3, 4]"
      ]
     },
     "execution_count": 7,
     "metadata": {},
     "output_type": "execute_result"
    }
   ],
   "source": [
    "# []를 사용하여 초기값이 있는 리스트 만들기\n",
    "ls=[1,3,4]\n",
    "ls"
   ]
  },
  {
   "cell_type": "code",
   "execution_count": 11,
   "id": "331dcc69",
   "metadata": {},
   "outputs": [
    {
     "data": {
      "text/plain": [
       "[1,\n",
       " 3,\n",
       " 5,\n",
       " 7,\n",
       " 9,\n",
       " 11,\n",
       " 13,\n",
       " 15,\n",
       " 17,\n",
       " 19,\n",
       " 21,\n",
       " 23,\n",
       " 25,\n",
       " 27,\n",
       " 29,\n",
       " 31,\n",
       " 33,\n",
       " 35,\n",
       " 37,\n",
       " 39,\n",
       " 41,\n",
       " 43,\n",
       " 45,\n",
       " 47,\n",
       " 49,\n",
       " 51,\n",
       " 53,\n",
       " 55,\n",
       " 57,\n",
       " 59,\n",
       " 61,\n",
       " 63,\n",
       " 65,\n",
       " 67,\n",
       " 69,\n",
       " 71,\n",
       " 73,\n",
       " 75,\n",
       " 77,\n",
       " 79,\n",
       " 81,\n",
       " 83,\n",
       " 85,\n",
       " 87,\n",
       " 89,\n",
       " 91,\n",
       " 93,\n",
       " 95,\n",
       " 97,\n",
       " 99]"
      ]
     },
     "execution_count": 11,
     "metadata": {},
     "output_type": "execute_result"
    }
   ],
   "source": [
    "# list() 함수를 사용하여 초기값이 있는 리스트 만들기(규칙이 있는 정수값의 나열)\n",
    "ls=list(range(1,100,2))\n",
    "ls"
   ]
  },
  {
   "cell_type": "markdown",
   "id": "607e85e2",
   "metadata": {},
   "source": [
    "## 튜플 만들기"
   ]
  },
  {
   "cell_type": "code",
   "execution_count": 13,
   "id": "c570b2e7",
   "metadata": {},
   "outputs": [
    {
     "data": {
      "text/plain": [
       "()"
      ]
     },
     "execution_count": 13,
     "metadata": {},
     "output_type": "execute_result"
    }
   ],
   "source": [
    "# ( )를 사용하여 빈 튜플 만들기\n",
    "t=()\n",
    "t"
   ]
  },
  {
   "cell_type": "code",
   "execution_count": 15,
   "id": "39490974",
   "metadata": {},
   "outputs": [
    {
     "data": {
      "text/plain": [
       "()"
      ]
     },
     "execution_count": 15,
     "metadata": {},
     "output_type": "execute_result"
    }
   ],
   "source": [
    "# tuple() 함수를 사용하여 빈 튜플 만들기\n",
    "t=tuple()\n",
    "t"
   ]
  },
  {
   "cell_type": "code",
   "execution_count": 17,
   "id": "889cf7d3",
   "metadata": {},
   "outputs": [
    {
     "data": {
      "text/plain": [
       "(1, 2, 3)"
      ]
     },
     "execution_count": 17,
     "metadata": {},
     "output_type": "execute_result"
    }
   ],
   "source": [
    "# ( )에 초기값 지정하여 튜플 만들기\n",
    "t=(1,2,3)\n",
    "t"
   ]
  },
  {
   "cell_type": "code",
   "execution_count": 19,
   "id": "64f5362e",
   "metadata": {},
   "outputs": [
    {
     "data": {
      "text/plain": [
       "(1,\n",
       " 3,\n",
       " 5,\n",
       " 7,\n",
       " 9,\n",
       " 11,\n",
       " 13,\n",
       " 15,\n",
       " 17,\n",
       " 19,\n",
       " 21,\n",
       " 23,\n",
       " 25,\n",
       " 27,\n",
       " 29,\n",
       " 31,\n",
       " 33,\n",
       " 35,\n",
       " 37,\n",
       " 39,\n",
       " 41,\n",
       " 43,\n",
       " 45,\n",
       " 47,\n",
       " 49,\n",
       " 51,\n",
       " 53,\n",
       " 55,\n",
       " 57,\n",
       " 59,\n",
       " 61,\n",
       " 63,\n",
       " 65,\n",
       " 67,\n",
       " 69,\n",
       " 71,\n",
       " 73,\n",
       " 75,\n",
       " 77,\n",
       " 79,\n",
       " 81,\n",
       " 83,\n",
       " 85,\n",
       " 87,\n",
       " 89,\n",
       " 91,\n",
       " 93,\n",
       " 95,\n",
       " 97,\n",
       " 99)"
      ]
     },
     "execution_count": 19,
     "metadata": {},
     "output_type": "execute_result"
    }
   ],
   "source": [
    "# tuple() 함수를 사용하여 초기값이 있는 튜플 만들기(규칙이 있는 정수값의 나열)\n",
    "t=tuple(range(1,101,2))\n",
    "t"
   ]
  },
  {
   "cell_type": "code",
   "execution_count": 20,
   "id": "40b90d77",
   "metadata": {},
   "outputs": [
    {
     "data": {
      "text/plain": [
       "(1, 2, 3)"
      ]
     },
     "execution_count": 20,
     "metadata": {},
     "output_type": "execute_result"
    }
   ],
   "source": [
    "# 튜플을 만들 때 괄호()를 생략할 수 있다.\n",
    "t=1,2,3\n",
    "t"
   ]
  },
  {
   "cell_type": "code",
   "execution_count": 22,
   "id": "7d6fd538",
   "metadata": {},
   "outputs": [
    {
     "data": {
      "text/plain": [
       "(1,)"
      ]
     },
     "execution_count": 22,
     "metadata": {},
     "output_type": "execute_result"
    }
   ],
   "source": [
    "# 항목이 1개일 때는 ,를 붙인다.\n",
    "t=(1,)\n",
    "t"
   ]
  },
  {
   "cell_type": "code",
   "execution_count": null,
   "id": "f04da6fd",
   "metadata": {},
   "outputs": [],
   "source": []
  },
  {
   "cell_type": "markdown",
   "id": "627529d2",
   "metadata": {},
   "source": [
    "# 리스트, 튜플의 자료형\n",
    "* 모든 자료형이 혼합되어 들어갈 수 있다."
   ]
  },
  {
   "cell_type": "code",
   "execution_count": 23,
   "id": "1829aaa6",
   "metadata": {},
   "outputs": [
    {
     "data": {
      "text/plain": [
       "['any', 20, 150, ['독서', '코딩']]"
      ]
     },
     "execution_count": 23,
     "metadata": {},
     "output_type": "execute_result"
    }
   ],
   "source": [
    "mylist=['any',20,150,[\"독서\",\"코딩\"]]\n",
    "mylist"
   ]
  },
  {
   "cell_type": "code",
   "execution_count": 24,
   "id": "ef467dee",
   "metadata": {
    "scrolled": true
   },
   "outputs": [
    {
     "data": {
      "text/plain": [
       "('ny', 15, 20, ('일', '학교'))"
      ]
     },
     "execution_count": 24,
     "metadata": {},
     "output_type": "execute_result"
    }
   ],
   "source": [
    "mytuple=('ny',15,20,(\"일\",\"학교\"))\n",
    "mytuple"
   ]
  },
  {
   "cell_type": "markdown",
   "id": "881aae3d",
   "metadata": {},
   "source": [
    "# 리스트, 튜플 연결하기"
   ]
  },
  {
   "cell_type": "code",
   "execution_count": 25,
   "id": "f90e69a6",
   "metadata": {},
   "outputs": [
    {
     "data": {
      "text/plain": [
       "['사과', '딸기', '포도', '포도', '수박']"
      ]
     },
     "execution_count": 25,
     "metadata": {},
     "output_type": "execute_result"
    }
   ],
   "source": [
    "l1 = ['사과','딸기','포도']\n",
    "l2 = ['포도','수박']\n",
    "l1+l2"
   ]
  },
  {
   "cell_type": "code",
   "execution_count": 26,
   "id": "b2d79e6d",
   "metadata": {},
   "outputs": [
    {
     "data": {
      "text/plain": [
       "('빨', '주', '노', '초', '파', '남', '보')"
      ]
     },
     "execution_count": 26,
     "metadata": {},
     "output_type": "execute_result"
    }
   ],
   "source": [
    "t1 = ('빨','주')\n",
    "t2 = ('노','초','파','남','보')\n",
    "t1+t2"
   ]
  },
  {
   "cell_type": "markdown",
   "id": "f38a041b",
   "metadata": {},
   "source": [
    "# 리스트, 튜플 반복하기"
   ]
  },
  {
   "cell_type": "code",
   "execution_count": 27,
   "id": "c9926976",
   "metadata": {},
   "outputs": [
    {
     "data": {
      "text/plain": [
       "['먹고', '자고', '먹고', '자고']"
      ]
     },
     "execution_count": 27,
     "metadata": {},
     "output_type": "execute_result"
    }
   ],
   "source": [
    "l = ['먹고','자고']\n",
    "l*2"
   ]
  },
  {
   "cell_type": "code",
   "execution_count": 28,
   "id": "d8f38204",
   "metadata": {},
   "outputs": [
    {
     "data": {
      "text/plain": [
       "('놀고', '먹고', '자고', '놀고', '먹고', '자고', '놀고', '먹고', '자고')"
      ]
     },
     "execution_count": 28,
     "metadata": {},
     "output_type": "execute_result"
    }
   ],
   "source": [
    "t = ('놀고','먹고','자고')\n",
    "t*3"
   ]
  },
  {
   "cell_type": "markdown",
   "id": "17c672e8",
   "metadata": {},
   "source": [
    "# 리스트, 튜플에 값 존재여부 확인\n",
    "* 멤버연산자 : in, not in"
   ]
  },
  {
   "cell_type": "code",
   "execution_count": 33,
   "id": "a1636afb",
   "metadata": {},
   "outputs": [
    {
     "name": "stdout",
     "output_type": "stream",
     "text": [
      "True\n",
      "False\n",
      "False\n"
     ]
    }
   ],
   "source": [
    "ls=[1,2,5,7]\n",
    "print(5 in ls)\n",
    "print(3 in ls)\n",
    "print(1 not in ls)"
   ]
  },
  {
   "cell_type": "code",
   "execution_count": 35,
   "id": "a882e131",
   "metadata": {},
   "outputs": [
    {
     "name": "stdout",
     "output_type": "stream",
     "text": [
      "True\n"
     ]
    }
   ],
   "source": [
    "t=(1,2,3,5)\n",
    "print(5 in t)"
   ]
  },
  {
   "cell_type": "markdown",
   "id": "46340088",
   "metadata": {},
   "source": [
    "# 리스트, 튜플 항목의 갯수 구하기\n",
    "* len(리스트명)\n",
    "* len(튜플명)"
   ]
  },
  {
   "cell_type": "code",
   "execution_count": 39,
   "id": "5aa41221",
   "metadata": {
    "scrolled": true
   },
   "outputs": [
    {
     "data": {
      "text/plain": [
       "14"
      ]
     },
     "execution_count": 39,
     "metadata": {},
     "output_type": "execute_result"
    }
   ],
   "source": [
    "l = [1,3,2,4,3,5,7,8,77.7,88.8,'a','b','c',[10,20,30]]\n",
    "len(l)"
   ]
  },
  {
   "cell_type": "code",
   "execution_count": 40,
   "id": "9b8d55eb",
   "metadata": {},
   "outputs": [
    {
     "data": {
      "text/plain": [
       "2"
      ]
     },
     "execution_count": 40,
     "metadata": {},
     "output_type": "execute_result"
    }
   ],
   "source": [
    "t = ((1,2),[3,4])\n",
    "len(t)"
   ]
  },
  {
   "cell_type": "code",
   "execution_count": null,
   "id": "73b15e3b",
   "metadata": {},
   "outputs": [],
   "source": []
  }
 ],
 "metadata": {
  "kernelspec": {
   "display_name": "Python 3 (ipykernel)",
   "language": "python",
   "name": "python3"
  },
  "language_info": {
   "codemirror_mode": {
    "name": "ipython",
    "version": 3
   },
   "file_extension": ".py",
   "mimetype": "text/x-python",
   "name": "python",
   "nbconvert_exporter": "python",
   "pygments_lexer": "ipython3",
   "version": "3.11.4"
  },
  "toc": {
   "base_numbering": 1,
   "nav_menu": {},
   "number_sections": true,
   "sideBar": true,
   "skip_h1_title": false,
   "title_cell": "Table of Contents",
   "title_sidebar": "Contents",
   "toc_cell": false,
   "toc_position": {},
   "toc_section_display": true,
   "toc_window_display": true
  }
 },
 "nbformat": 4,
 "nbformat_minor": 5
}

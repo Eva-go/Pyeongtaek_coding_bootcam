{
 "cells": [
  {
   "cell_type": "markdown",
   "id": "47f9ddc7",
   "metadata": {},
   "source": [
    "# up&down 숫자맞추기 게임"
   ]
  },
  {
   "cell_type": "markdown",
   "id": "cfd44e63",
   "metadata": {},
   "source": [
    "* 1~100 사이의 정답 숫자를 랜덤으로 하나 정하고, 정답 숫자를 맞출 때까지 숫자를 입력하는 게임이다.     \n",
    "내가 입력한 숫자가 정답보다 작으면 'DOWN', 정답보다 크면 'UP'을 출력하고 숫자를 다시 입력받는다.     \n",
    "정답을 맞추면 '정답!'이라고 출력하고 게임을 끝낸다."
   ]
  },
  {
   "cell_type": "code",
   "execution_count": 2,
   "id": "25459597",
   "metadata": {},
   "outputs": [
    {
     "name": "stdout",
     "output_type": "stream",
     "text": [
      "정답: 22\n",
      "숫자입력:22\n",
      "정답\n"
     ]
    }
   ],
   "source": [
    "import random\n",
    "\n",
    "num=random.randrange(1,101)\n",
    "print(\"정답:\",num)\n",
    "while True:\n",
    "    o=int(input(\"숫자입력:\"))\n",
    "    if num>o:\n",
    "        print(\"Up\")\n",
    "    if num<o:\n",
    "        print(\"Down\")\n",
    "    if num==o:\n",
    "        print(\"정답\")\n",
    "        break"
   ]
  },
  {
   "cell_type": "markdown",
   "id": "a0e19b86",
   "metadata": {},
   "source": [
    "* 확장     \n",
    "기회는 5번까지만 주어집니다.     \n",
    "5회가 넘으면 '횟수초과' 메시지와 함께 정답을 알려줍니다.    \n",
    "정답을 맞추면 몇번째에 맞추었는지 출력합니다."
   ]
  },
  {
   "cell_type": "code",
   "execution_count": 4,
   "id": "6333ba44",
   "metadata": {
    "scrolled": false
   },
   "outputs": [
    {
     "name": "stdout",
     "output_type": "stream",
     "text": [
      "56\n",
      "숫자입력:1\n",
      "Up\n",
      "숫자입력:2\n",
      "Up\n",
      "숫자입력:3\n",
      "Up\n",
      "숫자입력:4\n",
      "Up\n",
      "숫자입력:5\n",
      "Up\n",
      "횟수 초과 정답은 56\n"
     ]
    }
   ],
   "source": [
    "import random\n",
    "\n",
    "num=random.randrange(1,101)\n",
    "\n",
    "print(num)\n",
    "count=0\n",
    "while True:\n",
    "    if count>4:\n",
    "        print('횟수 초과 정답은',num)\n",
    "        break\n",
    "    count+=1\n",
    "    o=int(input(\"숫자입력:\"))\n",
    "    if num>o:\n",
    "        print(\"Up\")\n",
    "    if num<o:\n",
    "        print(\"Down\")\n",
    "    if num==o:\n",
    "        print(count,\"번만에 맞추었습니다.\")\n",
    "        break"
   ]
  },
  {
   "cell_type": "markdown",
   "id": "5e6ba755",
   "metadata": {},
   "source": [
    "# 사칙연산 프로그램"
   ]
  },
  {
   "cell_type": "markdown",
   "id": "ceb11370",
   "metadata": {},
   "source": [
    "* 두 수와 사칙연산기호(+,-,*,/)을 입력받아 연산 기호에 따라 연산 결과를 출력하는 프로그램을 작성하세요.\n",
    "* 사칙연산기호(+,-,*,/)가 아닌 경우 '잘못입력하셨습니다' 출력"
   ]
  },
  {
   "cell_type": "code",
   "execution_count": 8,
   "id": "bab34477",
   "metadata": {
    "scrolled": true
   },
   "outputs": [
    {
     "name": "stdout",
     "output_type": "stream",
     "text": [
      "숫자11\n",
      "숫자22\n",
      "연산기호+\n",
      "1+2=3\n"
     ]
    }
   ],
   "source": [
    "num1=int(input(\"숫자1:\"))\n",
    "num2=int(input(\"숫자2\":))\n",
    "op = input(\"연산기호\")\n",
    "\n",
    "if op==\"+\":\n",
    "    print(f'{num1}+{num2}={num1+num2}')\n",
    "elif op==\"-\":\n",
    "    print(f'{num1}-{num2}={num1-num2}')\n",
    "elif op=='*':\n",
    "    print(f'{num1}*{num2}={num1*num2}')\n",
    "elif op==\"/\":\n",
    "    print(f'{num1}/{num2}={num1/num2}')\n",
    "else:\n",
    "    print(\"잘못입력하셧습니다\")"
   ]
  },
  {
   "cell_type": "markdown",
   "id": "015e484c",
   "metadata": {},
   "source": [
    "# 할인된 금액 계산"
   ]
  },
  {
   "cell_type": "markdown",
   "id": "b1584bb7",
   "metadata": {},
   "source": [
    "* 물건 구매가를 입력받고, 금액에 따른 할인율을 계산하여 구매가, 할인율, 할인금액, 지불금액을 출력하세요.\n",
    "|금액|할인율|\n",
    "|----|------|\n",
    "|1만원이상 5만원미만|5%|\n",
    "|5만원이상 10만원미만|7%|\n",
    "|10만원이상|10%|\n"
   ]
  },
  {
   "cell_type": "code",
   "execution_count": 15,
   "id": "6457c190",
   "metadata": {},
   "outputs": [
    {
     "name": "stdout",
     "output_type": "stream",
     "text": [
      "물건구매가:100000\n",
      "물건 구매가 100000 할인율 10 할인금액 10000.0 지불금액 90000.0\n"
     ]
    }
   ],
   "source": [
    "pay=int(input(\"물건구매가:\"))\n",
    "total=0\n",
    "dc=0\n",
    "dccount=0\n",
    "if pay>=10000 and pay<50000:\n",
    "    total=pay-pay*0.05\n",
    "    dc=pay*0.05\n",
    "    dccount=5\n",
    "    print(\"물건 구매가\",pay,'할인율',dccount,\"할인금액\",dc,\"지불금액\",total)\n",
    "elif pay>=50000 and pay<100000:\n",
    "    total=pay-pay*0.07\n",
    "    dc=pay*0.07\n",
    "    dccount=7\n",
    "    print(\"물건 구매가\",pay,'할인율',dccount,\"할인금액\",dc,\"지불금액\",total)\n",
    "elif pay>=100000:\n",
    "    total=pay-pay*0.1\n",
    "    dc=pay*0.1\n",
    "    dccount=10\n",
    "    print(\"물건 구매가\",pay,'할인율',dccount,\"할인금액\",dc,\"지불금액\",total)"
   ]
  },
  {
   "cell_type": "code",
   "execution_count": null,
   "id": "9d0b8d14",
   "metadata": {},
   "outputs": [],
   "source": []
  }
 ],
 "metadata": {
  "kernelspec": {
   "display_name": "Python 3 (ipykernel)",
   "language": "python",
   "name": "python3"
  },
  "language_info": {
   "codemirror_mode": {
    "name": "ipython",
    "version": 3
   },
   "file_extension": ".py",
   "mimetype": "text/x-python",
   "name": "python",
   "nbconvert_exporter": "python",
   "pygments_lexer": "ipython3",
   "version": "3.11.4"
  },
  "toc": {
   "base_numbering": 1,
   "nav_menu": {},
   "number_sections": true,
   "sideBar": true,
   "skip_h1_title": false,
   "title_cell": "Table of Contents",
   "title_sidebar": "Contents",
   "toc_cell": false,
   "toc_position": {},
   "toc_section_display": true,
   "toc_window_display": true
  }
 },
 "nbformat": 4,
 "nbformat_minor": 5
}
